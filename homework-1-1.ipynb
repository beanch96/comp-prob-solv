{
 "cells": [
  {
   "cell_type": "code",
   "execution_count": 1,
   "metadata": {},
   "outputs": [],
   "source": [
    "import numpy as np\n",
    "import pandas as pd"
   ]
  },
  {
   "cell_type": "code",
   "execution_count": 16,
   "metadata": {},
   "outputs": [
    {
     "name": "stdout",
     "output_type": "stream",
     "text": [
      "    Volume  Pressure\n",
      "0       48   29.1250\n",
      "1       46   30.5625\n",
      "2       44   31.9375\n",
      "3       42   33.5000\n",
      "4       40   35.3125\n",
      "5       38   37.0000\n",
      "6       36   39.3125\n",
      "7       34   41.6250\n",
      "8       32   44.1875\n",
      "9       30   47.0625\n",
      "10      28   50.3125 \n",
      "\n",
      "   V mean  V median      V Std   P mean  P median      P Std\n",
      "0   27.12      24.0  11.192706  61.5075   58.8125  25.840546\n"
     ]
    }
   ],
   "source": [
    "#Task (a)\n",
    "#During this task, Pandas package is used to import a csv file, \n",
    "#print a few rows and calculate the mean, median, and std of Pressure and Volume\n",
    "\n",
    "\n",
    "file= pd.read_csv('volume_pressure_data.csv') #File is imported with Pandas\n",
    "print(file.head(11),\"\\n\")                     #Print first 10 rows of data \n",
    "Vol_mean = file[\"Volume\"].mean()\n",
    "P_mean =  file[\"Pressure\"].mean()\n",
    "Vol_median = file[\"Volume\"].median()         #Calculating mean, median, std for V and P\n",
    "P_median =  file[\"Pressure\"].median()\n",
    "Vol_std = file[\"Volume\"].std()\n",
    "P_std =  file[\"Pressure\"].std()\n",
    "\n",
    "data={\n",
    "    \"V mean\": [Vol_mean],\n",
    "    \"V median\": [Vol_median],\n",
    "    \"V Std\": [Vol_std],                      #Creating data frame to output Solutions\n",
    "    \"P mean\": [P_mean],\n",
    "    \"P median\": [P_median],\n",
    "    \"P Std\": [P_std],\n",
    "}\n",
    "\n",
    "Results = pd.DataFrame(data)\n",
    "print(Results)"
   ]
  },
  {
   "cell_type": "code",
   "execution_count": null,
   "metadata": {},
   "outputs": [],
   "source": []
  }
 ],
 "metadata": {
  "kernelspec": {
   "display_name": "Python 3",
   "language": "python",
   "name": "python3"
  },
  "language_info": {
   "codemirror_mode": {
    "name": "ipython",
    "version": 3
   },
   "file_extension": ".py",
   "mimetype": "text/x-python",
   "name": "python",
   "nbconvert_exporter": "python",
   "pygments_lexer": "ipython3",
   "version": "3.11.5"
  }
 },
 "nbformat": 4,
 "nbformat_minor": 2
}
