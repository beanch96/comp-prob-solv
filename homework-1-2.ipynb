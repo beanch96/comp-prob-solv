{
 "cells": [
  {
   "cell_type": "code",
   "execution_count": 15,
   "metadata": {},
   "outputs": [
    {
     "name": "stdout",
     "output_type": "stream",
     "text": [
      "H2: {'Ha': [0.0, 0.0, 0.0], 'Hb': [0.0, 0.0, 0.7414]}\n",
      "H2O: {'Ha': [0.0, 0.7572, -0.4692], 'Hb': [0.0, -0.7572, -0.4692], 'O': [0.0, 0.0, 0.1173]}\n",
      "Benzene: {'C1': [0.0, 1.397, 0.0], 'C2': [1.2098, 0.6985, 0.0], 'C3': [1.2098, -0.6985, 0.0], 'C4': [0.0, -1.397, 0.0], 'C5': [-1.2098, -0.6985, 0.0], 'C6': [-1.2098, 0.6985, 0.0], 'H7': [0.0, 2.481, 0.0], 'H8': [2.1486, 1.2405, 0.0], 'H9': [2.1486, -1.2405, 0.0], 'H10': [0.0, -2.481, 0.0], 'H11': [-2.1486, -1.2405, 0.0], 'H12': [-2.1486, 1.2405, 0.0]}\n"
     ]
    }
   ],
   "source": [
    "import math\n",
    "import numpy as np\n",
    "import matplotlib.pyplot as plt\n",
    "\n",
    "#Part 1\n",
    "#Create dictionary of molecule coordinate in atomic units\n",
    "\n",
    "H2={\n",
    "\n",
    "    \"Ha\":[0.0, 0.0, 0.0],\n",
    "    \"Hb\":[0.0, 0.0, 0.7414]\n",
    "}\n",
    "\n",
    "H2O={\n",
    "    \"Ha\":[0.0, 0.7572, -0.4692 ],\n",
    "    \"Hb\":[0.0, -0.7572, -0.4692],\n",
    "    \"O\":[0.0, 0.0, 0.1173]\n",
    "}\n",
    "\n",
    "benzene={\n",
    "\n",
    "    \"C1\":[0.0000, 1.3970, 0.0000],\n",
    "    \"C2\":[1.2098, 0.6985, 0.0000],\n",
    "    \"C3\":[1.2098, -0.6985, 0.0000],\n",
    "    \"C4\":[0.0000, -1.3970, 0.0000],\n",
    "    \"C5\":[-1.2098, -0.6985, 0.0000],\n",
    "    \"C6\":[-1.2098, 0.6985, 0.0000],\n",
    "    \"H7\":[0.0000, 2.4810, 0.0000],\n",
    "    \"H8\":[2.1486, 1.2405, 0.0000],\n",
    "    \"H9\":[2.1486,-1.2405, 0.0000],\n",
    "    \"H10\":[0.0000,-2.4810, 0.0000],\n",
    "    \"H11\":[-2.1486,-1.2405, 0.0000],\n",
    "    \"H12\":[-2.1486, 1.2405, 0.0000]\n",
    "}\n",
    "\n",
    "print(\"H2:\", H2)\n",
    "print(\"H2O:\", H2O)\n",
    "print(\"Benzene:\", benzene)"
   ]
  },
  {
   "cell_type": "code",
   "execution_count": 18,
   "metadata": {},
   "outputs": [
    {
     "name": "stdout",
     "output_type": "stream",
     "text": [
      "H2 bond length: 0.7414\n",
      "<class 'float'>\n"
     ]
    }
   ],
   "source": [
    "#Part 2\n",
    "#Function to find bond lenght \n",
    "\n",
    "def bond_lenght(coord1, coord2):\n",
    "    \"\"\"\n",
    "    Computes the bond lenght between two atoms based on their 3D coordinates.\n",
    "    \n",
    "    Parameters:\n",
    "    coord1 (list): List of 3D coordinates of atom 1. \n",
    "    coord2 (list): List of 3D coordinates of atom 2.\n",
    "    \n",
    "    Returns:\n",
    "    float: bond lenght between two atoms in 3D space.\n",
    "    \"\"\"\n",
    "    dx=coord2[0]-coord1[0]\n",
    "    dy=coord2[1]-coord1[1]\n",
    "    dz=coord2[2]-coord1[2]\n",
    "\n",
    "    lenght=math.sqrt(dx**2 + dy**2 + dz**2)\n",
    "    \n",
    "    if lenght > 2:\n",
    "        print(\"WARNING:Bond Lenght is above 2.0 A\")\n",
    "    \n",
    "    return lenght\n",
    "\n"
   ]
  },
  {
   "cell_type": "code",
   "execution_count": 29,
   "metadata": {},
   "outputs": [],
   "source": [
    "# Part 3\n",
    "#Function to find bond angles between three atoms\n",
    "\n",
    "def compute_bond_angle(coord1, coord2, coord3):\n",
    "    \"\"\"\n",
    "    Computes the bond angle between three atoms based on their 3D coordinates.\n",
    "    \n",
    "    Parameters:\n",
    "    coord1 (list): List of 3D coordinates of atom 1. \n",
    "    coord2 (list): List of 3D coordinates of atom 2.\n",
    "    coord3 (list): List of 3D coordinates of atom 3.\n",
    "    \n",
    "    Returns:\n",
    "    float: bond angle between three atoms in 3D space.\n",
    "    \"\"\"\n",
    "    A = np.array(coord1)\n",
    "    B = np.array(coord2)\n",
    "    C = np.array(coord3)\n",
    "\n",
    "    AB=A-B\n",
    "    BC=C-B\n",
    "\n",
    "    dotProduct= np.dot(AB,BC)\n",
    "    Mag_AB= np.linalg.norm(AB)\n",
    "    Mag_BC= np.linalg.norm(BC)\n",
    "\n",
    "    radians= np.arccos((dotProduct)/(Mag_AB*Mag_BC))\n",
    "    degrees= np.degrees(radians)\n",
    "\n",
    "    \n",
    "    if degrees < 90:\n",
    "        classi= \"Acute\"\n",
    "    elif degrees == 90:\n",
    "        classi= \"Right\"\n",
    "    elif 90 < degrees < 180:\n",
    "        classi= \"Obtuse\"\n",
    "    else:\n",
    "        classi= \"Invalid angle\"\n",
    "\n",
    "    return degrees, classi\n",
    "    \n",
    "    "
   ]
  },
  {
   "cell_type": "code",
   "execution_count": null,
   "metadata": {},
   "outputs": [],
   "source": []
  }
 ],
 "metadata": {
  "kernelspec": {
   "display_name": "Python 3",
   "language": "python",
   "name": "python3"
  },
  "language_info": {
   "codemirror_mode": {
    "name": "ipython",
    "version": 3
   },
   "file_extension": ".py",
   "mimetype": "text/x-python",
   "name": "python",
   "nbconvert_exporter": "python",
   "pygments_lexer": "ipython3",
   "version": "3.11.5"
  }
 },
 "nbformat": 4,
 "nbformat_minor": 2
}
