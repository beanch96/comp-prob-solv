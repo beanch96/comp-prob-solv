{
 "cells": [
  {
   "cell_type": "code",
   "execution_count": 2,
   "metadata": {},
   "outputs": [
    {
     "name": "stdout",
     "output_type": "stream",
     "text": [
      "{'Ha': [0.0, 0.0, 0.0], 'Hb': [0.0, 0.0, 0.7414]}\n"
     ]
    }
   ],
   "source": [
    "#Part 1\n",
    "#Create dictionary of molecule coordinate in atomic units\n",
    "\n",
    "H2={\n",
    "\n",
    "    \"Ha\":[0.0, 0.0, 0.0],\n",
    "    \"Hb\":[0.0, 0.0, 0.7414]\n",
    "}\n",
    "\n",
    "print(H2)"
   ]
  },
  {
   "cell_type": "code",
   "execution_count": null,
   "metadata": {},
   "outputs": [],
   "source": [
    "#Part 2\n",
    "#Function to find bond lenght \n",
    "\n",
    "\n"
   ]
  }
 ],
 "metadata": {
  "kernelspec": {
   "display_name": "Python 3",
   "language": "python",
   "name": "python3"
  },
  "language_info": {
   "codemirror_mode": {
    "name": "ipython",
    "version": 3
   },
   "file_extension": ".py",
   "mimetype": "text/x-python",
   "name": "python",
   "nbconvert_exporter": "python",
   "pygments_lexer": "ipython3",
   "version": "3.11.5"
  }
 },
 "nbformat": 4,
 "nbformat_minor": 2
}
