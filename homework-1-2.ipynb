{
 "cells": [
  {
   "cell_type": "code",
   "execution_count": 3,
   "metadata": {},
   "outputs": [
    {
     "name": "stdout",
     "output_type": "stream",
     "text": [
      "{'Ha': [0.0, 0.0, 0.0], 'Hb': [0.0, 0.0, 0.7414]}\n"
     ]
    }
   ],
   "source": [
    "import math\n",
    "import numpy as np\n",
    "import matplotlib.pyplot as plt\n",
    "\n",
    "#Part 1\n",
    "#Create dictionary of molecule coordinate in atomic units\n",
    "\n",
    "H2={\n",
    "\n",
    "    \"Ha\":[0.0, 0.0, 0.0],\n",
    "    \"Hb\":[0.0, 0.0, 0.7414]\n",
    "}\n",
    "\n",
    "print(H2)"
   ]
  },
  {
   "cell_type": "code",
   "execution_count": 6,
   "metadata": {},
   "outputs": [
    {
     "name": "stdout",
     "output_type": "stream",
     "text": [
      "0.7414 A\n"
     ]
    }
   ],
   "source": [
    "#Part 2\n",
    "#Function to find bond lenght \n",
    "\n",
    "def bond_lenght(coord1, coord2):\n",
    "    dx=coord2[0]-coord1[0]\n",
    "    dy=coord2[1]-coord1[1]\n",
    "    dz=coord2[2]-coord1[2]\n",
    "\n",
    "    lenght=math.sqrt(dx**2 + dy**2 + dz**2)\n",
    "    return lenght\n",
    "\n",
    "H2_length = bond_lenght(H2[\"Ha\"], H2[\"Hb\"])\n",
    "\n",
    "print(H2_length,\"A\")\n",
    "    \n"
   ]
  },
  {
   "cell_type": "code",
   "execution_count": null,
   "metadata": {},
   "outputs": [],
   "source": []
  }
 ],
 "metadata": {
  "kernelspec": {
   "display_name": "Python 3",
   "language": "python",
   "name": "python3"
  },
  "language_info": {
   "codemirror_mode": {
    "name": "ipython",
    "version": 3
   },
   "file_extension": ".py",
   "mimetype": "text/x-python",
   "name": "python",
   "nbconvert_exporter": "python",
   "pygments_lexer": "ipython3",
   "version": "3.11.5"
  }
 },
 "nbformat": 4,
 "nbformat_minor": 2
}
